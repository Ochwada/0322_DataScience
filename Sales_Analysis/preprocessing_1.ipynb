{
 "cells": [
  {
   "cell_type": "code",
   "execution_count": 1,
   "metadata": {},
   "outputs": [],
   "source": [
    "\n",
    "%matplotlib inline\n",
    "\n",
    "import numpy as np # linear algebra\n",
    "import pandas as pd \n",
    "import matplotlib.pyplot as plt\n",
    "import seaborn as sns\n",
    "from sklearn.metrics import accuracy_score  #Deciding Performance Measure\n",
    "from sklearn.metrics import mean_squared_error\n",
    "from sklearn.tree import DecisionTreeClassifier\n",
    "from sklearn.ensemble import RandomForestClassifier\n",
    "import os\n",
    "import seaborn as sns\n",
    "import pymongo as mongo\n",
    "from sklearn.impute import SimpleImpute\n",
    "from sklearn.preprocessing import LabelEncoder"
   ]
  },
  {
   "cell_type": "code",
   "execution_count": null,
   "metadata": {},
   "outputs": [],
   "source": [
    "# connect to the database \n",
    "client = mongo.MongoClient(\"mongodb://localhost:27017\")\n",
    "\n",
    "# Select the database and collection\n",
    "# database\n",
    "db = client[\"crm\"]\n",
    "\n",
    "# collection\n",
    "crm_activity = db[\"crm_activity\"].find()\n",
    "crm_activity_type = db[\"crm_activity_type\"].find()\n",
    "crm_customer = db[\"crm_customer\"].find()\n",
    "crm_deal = db[\"crm_deal\"].find()\n",
    "crm_organization = db[\"crm_organization\"].find()\n",
    "crm_pipeline = db[\"crm_pipeline\"].find()\n",
    "crm_user = db[\"crm_user\"].find()\n",
    "\n",
    "# convert to dataframe\n",
    "crm_activity = pd.DataFrame(crm_activity)\n",
    "crm_activity_type = pd.DataFrame(crm_activity_type)\n",
    "crm_customer = pd.DataFrame(crm_customer)\n"
   ]
  }
 ],
 "metadata": {
  "kernelspec": {
   "display_name": "tf_env",
   "language": "python",
   "name": "python3"
  },
  "language_info": {
   "codemirror_mode": {
    "name": "ipython",
    "version": 3
   },
   "file_extension": ".py",
   "mimetype": "text/x-python",
   "name": "python",
   "nbconvert_exporter": "python",
   "pygments_lexer": "ipython3",
   "version": "3.9.16"
  },
  "orig_nbformat": 4
 },
 "nbformat": 4,
 "nbformat_minor": 2
}
