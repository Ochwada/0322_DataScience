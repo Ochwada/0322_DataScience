{
 "cells": [
  {
   "cell_type": "code",
   "execution_count": 1,
   "outputs": [],
   "source": [
    "#If Statements"
   ],
   "metadata": {
    "collapsed": false,
    "ExecuteTime": {
     "end_time": "2023-08-15T12:31:30.366312Z",
     "start_time": "2023-08-15T12:31:30.361075Z"
    }
   },
   "id": "4693686fafa48774"
  },
  {
   "cell_type": "code",
   "execution_count": 2,
   "outputs": [
    {
     "name": "stdout",
     "output_type": "stream",
     "text": [
      "Toyota\n",
      "Honda\n",
      "Ford\n",
      "Chevrolet\n",
      "Volkswagen\n",
      "BMW\n",
      "Mercedes-Benz\n",
      "Audi\n",
      "Nissan\n",
      "Hyundai\n",
      "Kia\n",
      "Mazda\n",
      "Subaru\n",
      "Tesla\n",
      "Ferrari\n",
      "Lamborghini\n",
      "Porsche\n",
      "Jeep\n",
      "Dodge\n",
      "Chrysler\n"
     ]
    }
   ],
   "source": [
    "cars= [ \"Toyota\",  \"Honda\", \"Ford\", \"Chevrolet\", \"Volkswagen\",\n",
    "    \"bmw\", \"Mercedes-Benz\", \"Audi\", \"Nissan\", \"Hyundai\", \"Kia\", \"Mazda\",\n",
    "    \"Subaru\", \"Tesla\", \"Ferrari\", \"Lamborghini\", \"Porsche\", \"Jeep\", \"Dodge\",\n",
    "    \"Chrysler\"\n",
    "]\n",
    "# Print in uppercase\n",
    "\n",
    "for car in cars:\n",
    "    if car == 'bmw':\n",
    "        print(car.upper())\n",
    "    else:\n",
    "        print(car.title())\n",
    "    \n"
   ],
   "metadata": {
    "collapsed": false,
    "ExecuteTime": {
     "end_time": "2023-08-15T12:31:30.378867Z",
     "start_time": "2023-08-15T12:31:30.373440Z"
    }
   },
   "id": "9d7561a9f00752e8"
  },
  {
   "cell_type": "code",
   "execution_count": 3,
   "outputs": [
    {
     "data": {
      "text/plain": "False"
     },
     "execution_count": 3,
     "metadata": {},
     "output_type": "execute_result"
    }
   ],
   "source": [
    "# Check for Equality\n",
    "car = 'bmw'\n",
    "car == 'BMW'"
   ],
   "metadata": {
    "collapsed": false,
    "ExecuteTime": {
     "end_time": "2023-08-15T12:36:27.005713Z",
     "start_time": "2023-08-15T12:36:26.983451Z"
    }
   },
   "id": "6efde334c67d4f3f"
  },
  {
   "cell_type": "code",
   "execution_count": 5,
   "outputs": [
    {
     "name": "stdout",
     "output_type": "stream",
     "text": [
      "got it right\n"
     ]
    }
   ],
   "source": [
    "# Check for Unequality\n",
    "car_ferr = 'Ferrari'\n",
    "if car_ferr != 'Ferrari':\n",
    "    print(\"Car not right\")\n",
    "else:\n",
    "    print(\"got it right\")"
   ],
   "metadata": {
    "collapsed": false,
    "ExecuteTime": {
     "end_time": "2023-08-15T12:38:47.907325Z",
     "start_time": "2023-08-15T12:38:47.898793Z"
    }
   },
   "id": "995f55ae378d9a01"
  },
  {
   "cell_type": "code",
   "execution_count": 7,
   "outputs": [
    {
     "data": {
      "text/plain": "False"
     },
     "execution_count": 7,
     "metadata": {},
     "output_type": "execute_result"
    }
   ],
   "source": [
    "age_1 = 22\n",
    "age_2 = 18\n",
    "\n",
    "age_1 >=21 and age_2 >=21"
   ],
   "metadata": {
    "collapsed": false,
    "ExecuteTime": {
     "end_time": "2023-08-15T12:40:46.983159Z",
     "start_time": "2023-08-15T12:40:46.974373Z"
    }
   },
   "id": "18ebf4b2cec358d4"
  },
  {
   "cell_type": "code",
   "execution_count": 8,
   "outputs": [
    {
     "data": {
      "text/plain": "True"
     },
     "execution_count": 8,
     "metadata": {},
     "output_type": "execute_result"
    }
   ],
   "source": [
    "age_1 = 22\n",
    "age_2 = 18\n",
    "\n",
    "age_1 >=21 or age_2 >=21"
   ],
   "metadata": {
    "collapsed": false,
    "ExecuteTime": {
     "end_time": "2023-08-15T12:40:54.493477Z",
     "start_time": "2023-08-15T12:40:54.472609Z"
    }
   },
   "id": "5261fa98072bfe3"
  },
  {
   "cell_type": "code",
   "execution_count": 10,
   "outputs": [
    {
     "data": {
      "text/plain": "False"
     },
     "execution_count": 10,
     "metadata": {},
     "output_type": "execute_result"
    }
   ],
   "source": [
    "# Check if value is on the list\n",
    "\n",
    "'BMW' in cars"
   ],
   "metadata": {
    "collapsed": false,
    "ExecuteTime": {
     "end_time": "2023-08-15T12:41:44.972795Z",
     "start_time": "2023-08-15T12:41:44.963137Z"
    }
   },
   "id": "787970b104e4d239"
  },
  {
   "cell_type": "code",
   "execution_count": 11,
   "outputs": [
    {
     "data": {
      "text/plain": "True"
     },
     "execution_count": 11,
     "metadata": {},
     "output_type": "execute_result"
    }
   ],
   "source": [
    "'bmw' in cars"
   ],
   "metadata": {
    "collapsed": false,
    "ExecuteTime": {
     "end_time": "2023-08-15T12:41:45.662278Z",
     "start_time": "2023-08-15T12:41:45.643095Z"
    }
   },
   "id": "da466ef9367defc4"
  },
  {
   "cell_type": "code",
   "execution_count": 19,
   "outputs": [
    {
     "name": "stdout",
     "output_type": "stream",
     "text": [
      "Its okay\n"
     ]
    }
   ],
   "source": [
    "if car not in cars:\n",
    "    print(f\"{car.title()}, is what i like to drive\")\n",
    "else:\n",
    "    print('Its okay')\n",
    "\n",
    "car = 'bmw'\n"
   ],
   "metadata": {
    "collapsed": false,
    "ExecuteTime": {
     "end_time": "2023-08-15T12:45:21.933601Z",
     "start_time": "2023-08-15T12:45:21.926689Z"
    }
   },
   "id": "65bf4a7f3081efc6"
  },
  {
   "cell_type": "code",
   "execution_count": 20,
   "outputs": [
    {
     "name": "stdout",
     "output_type": "stream",
     "text": [
      "Your submission fee is € 10\n"
     ]
    }
   ],
   "source": [
    "age  = 12\n",
    "\n",
    "if age < 4:\n",
    "    print(\"Your submission fee is € 0\")\n",
    "    \n",
    "elif age < 18:\n",
    "    print(\"Your submission fee is € 10\")\n",
    "    \n",
    "else:\n",
    "    print(\"Your submission fee is € 15\")"
   ],
   "metadata": {
    "collapsed": false,
    "ExecuteTime": {
     "end_time": "2023-08-15T12:48:30.828917Z",
     "start_time": "2023-08-15T12:48:30.809076Z"
    }
   },
   "id": "41c4ada5689a0159"
  },
  {
   "cell_type": "markdown",
   "source": [
    "# IF STATEMENNTS"
   ],
   "metadata": {
    "collapsed": false
   },
   "id": "4c20850adf5735f8"
  },
  {
   "cell_type": "code",
   "execution_count": null,
   "outputs": [],
   "source": [
    "alien_color = ['green', 'yellow', 'red']\n",
    "for coloe"
   ],
   "metadata": {
    "collapsed": false
   },
   "id": "2608ab870ea16342"
  }
 ],
 "metadata": {
  "kernelspec": {
   "display_name": "Python 3",
   "language": "python",
   "name": "python3"
  },
  "language_info": {
   "codemirror_mode": {
    "name": "ipython",
    "version": 2
   },
   "file_extension": ".py",
   "mimetype": "text/x-python",
   "name": "python",
   "nbconvert_exporter": "python",
   "pygments_lexer": "ipython2",
   "version": "2.7.6"
  }
 },
 "nbformat": 4,
 "nbformat_minor": 5
}
