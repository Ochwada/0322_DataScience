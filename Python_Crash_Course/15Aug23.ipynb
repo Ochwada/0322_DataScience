{
 "cells": [
  {
   "cell_type": "code",
   "execution_count": 1,
   "outputs": [],
   "source": [
    "#If Statements"
   ],
   "metadata": {
    "collapsed": false,
    "ExecuteTime": {
     "end_time": "2023-08-16T11:24:05.262115Z",
     "start_time": "2023-08-16T11:24:05.069969Z"
    }
   },
   "id": "4693686fafa48774"
  },
  {
   "cell_type": "code",
   "execution_count": 2,
   "outputs": [
    {
     "name": "stdout",
     "output_type": "stream",
     "text": [
      "Toyota\n",
      "Honda\n",
      "Ford\n",
      "Chevrolet\n",
      "Volkswagen\n",
      "BMW\n",
      "Mercedes-Benz\n",
      "Audi\n",
      "Nissan\n",
      "Hyundai\n",
      "Kia\n",
      "Mazda\n",
      "Subaru\n",
      "Tesla\n",
      "Ferrari\n",
      "Lamborghini\n",
      "Porsche\n",
      "Jeep\n",
      "Dodge\n",
      "Chrysler\n"
     ]
    }
   ],
   "source": [
    "cars= [ \"Toyota\",  \"Honda\", \"Ford\", \"Chevrolet\", \"Volkswagen\",\n",
    "    \"bmw\", \"Mercedes-Benz\", \"Audi\", \"Nissan\", \"Hyundai\", \"Kia\", \"Mazda\",\n",
    "    \"Subaru\", \"Tesla\", \"Ferrari\", \"Lamborghini\", \"Porsche\", \"Jeep\", \"Dodge\",\n",
    "    \"Chrysler\"\n",
    "]\n",
    "# Print in uppercase\n",
    "\n",
    "for car in cars:\n",
    "    if car == 'bmw':\n",
    "        print(car.upper())\n",
    "    else:\n",
    "        print(car.title())\n",
    "    \n"
   ],
   "metadata": {
    "collapsed": false,
    "ExecuteTime": {
     "end_time": "2023-08-16T11:24:05.263954Z",
     "start_time": "2023-08-16T11:24:05.079134Z"
    }
   },
   "id": "9d7561a9f00752e8"
  },
  {
   "cell_type": "code",
   "execution_count": 3,
   "outputs": [
    {
     "data": {
      "text/plain": "False"
     },
     "execution_count": 3,
     "metadata": {},
     "output_type": "execute_result"
    }
   ],
   "source": [
    "# Check for Equality\n",
    "car = 'bmw'\n",
    "car == 'BMW'"
   ],
   "metadata": {
    "collapsed": false,
    "ExecuteTime": {
     "end_time": "2023-08-16T11:24:05.273518Z",
     "start_time": "2023-08-16T11:24:05.084686Z"
    }
   },
   "id": "6efde334c67d4f3f"
  },
  {
   "cell_type": "code",
   "execution_count": 4,
   "outputs": [
    {
     "name": "stdout",
     "output_type": "stream",
     "text": [
      "got it right\n"
     ]
    }
   ],
   "source": [
    "# Check for Unequality\n",
    "car_ferr = 'Ferrari'\n",
    "if car_ferr != 'Ferrari':\n",
    "    print(\"Car not right\")\n",
    "else:\n",
    "    print(\"got it right\")"
   ],
   "metadata": {
    "collapsed": false,
    "ExecuteTime": {
     "end_time": "2023-08-16T11:24:05.274136Z",
     "start_time": "2023-08-16T11:24:05.094718Z"
    }
   },
   "id": "995f55ae378d9a01"
  },
  {
   "cell_type": "code",
   "execution_count": 5,
   "outputs": [
    {
     "data": {
      "text/plain": "False"
     },
     "execution_count": 5,
     "metadata": {},
     "output_type": "execute_result"
    }
   ],
   "source": [
    "age_1 = 22\n",
    "age_2 = 18\n",
    "\n",
    "age_1 >=21 and age_2 >=21"
   ],
   "metadata": {
    "collapsed": false,
    "ExecuteTime": {
     "end_time": "2023-08-16T11:24:05.274577Z",
     "start_time": "2023-08-16T11:24:05.103578Z"
    }
   },
   "id": "18ebf4b2cec358d4"
  },
  {
   "cell_type": "code",
   "execution_count": 6,
   "outputs": [
    {
     "data": {
      "text/plain": "True"
     },
     "execution_count": 6,
     "metadata": {},
     "output_type": "execute_result"
    }
   ],
   "source": [
    "age_1 = 22\n",
    "age_2 = 18\n",
    "\n",
    "age_1 >=21 or age_2 >=21"
   ],
   "metadata": {
    "collapsed": false,
    "ExecuteTime": {
     "end_time": "2023-08-16T11:24:05.274986Z",
     "start_time": "2023-08-16T11:24:05.111164Z"
    }
   },
   "id": "5261fa98072bfe3"
  },
  {
   "cell_type": "code",
   "execution_count": 7,
   "outputs": [
    {
     "data": {
      "text/plain": "False"
     },
     "execution_count": 7,
     "metadata": {},
     "output_type": "execute_result"
    }
   ],
   "source": [
    "# Check if value is on the list\n",
    "\n",
    "'BMW' in cars"
   ],
   "metadata": {
    "collapsed": false,
    "ExecuteTime": {
     "end_time": "2023-08-16T11:24:05.275402Z",
     "start_time": "2023-08-16T11:24:05.117885Z"
    }
   },
   "id": "787970b104e4d239"
  },
  {
   "cell_type": "code",
   "execution_count": 8,
   "outputs": [
    {
     "data": {
      "text/plain": "True"
     },
     "execution_count": 8,
     "metadata": {},
     "output_type": "execute_result"
    }
   ],
   "source": [
    "'bmw' in cars"
   ],
   "metadata": {
    "collapsed": false,
    "ExecuteTime": {
     "end_time": "2023-08-16T11:24:05.275830Z",
     "start_time": "2023-08-16T11:24:05.125715Z"
    }
   },
   "id": "da466ef9367defc4"
  },
  {
   "cell_type": "code",
   "execution_count": 9,
   "outputs": [
    {
     "name": "stdout",
     "output_type": "stream",
     "text": [
      "Its okay\n"
     ]
    }
   ],
   "source": [
    "if car not in cars:\n",
    "    print(f\"{car.title()}, is what i like to drive\")\n",
    "else:\n",
    "    print('Its okay')\n",
    "\n",
    "car = 'bmw'\n"
   ],
   "metadata": {
    "collapsed": false,
    "ExecuteTime": {
     "end_time": "2023-08-16T11:24:05.276223Z",
     "start_time": "2023-08-16T11:24:05.134443Z"
    }
   },
   "id": "65bf4a7f3081efc6"
  },
  {
   "cell_type": "code",
   "execution_count": 10,
   "outputs": [
    {
     "name": "stdout",
     "output_type": "stream",
     "text": [
      "Your submission fee is € 10\n"
     ]
    }
   ],
   "source": [
    "age  = 12\n",
    "\n",
    "if age < 4:\n",
    "    print(\"Your submission fee is € 0\")\n",
    "    \n",
    "elif age < 18:\n",
    "    print(\"Your submission fee is € 10\")\n",
    "    \n",
    "else:\n",
    "    print(\"Your submission fee is € 15\")"
   ],
   "metadata": {
    "collapsed": false,
    "ExecuteTime": {
     "end_time": "2023-08-16T11:24:05.276590Z",
     "start_time": "2023-08-16T11:24:05.141034Z"
    }
   },
   "id": "41c4ada5689a0159"
  },
  {
   "cell_type": "markdown",
   "source": [
    "# IF STATEMENNTS"
   ],
   "metadata": {
    "collapsed": false
   },
   "id": "4c20850adf5735f8"
  },
  {
   "cell_type": "code",
   "execution_count": 11,
   "outputs": [
    {
     "name": "stdout",
     "output_type": "stream",
     "text": [
      "You just earned 5 points\n",
      "You just earned 10 points\n",
      "You just earned 10 points\n"
     ]
    }
   ],
   "source": [
    "alien_color = ['green', 'yellow', 'red']\n",
    "\n",
    "for color in alien_color:\n",
    "    if color == 'green':\n",
    "        print('You just earned 5 points')\n",
    "    else:\n",
    "        print('You just earned 10 points')"
   ],
   "metadata": {
    "collapsed": false,
    "ExecuteTime": {
     "end_time": "2023-08-16T11:24:05.276994Z",
     "start_time": "2023-08-16T11:24:05.148150Z"
    }
   },
   "id": "2608ab870ea16342"
  },
  {
   "cell_type": "code",
   "execution_count": 12,
   "outputs": [
    {
     "name": "stdout",
     "output_type": "stream",
     "text": [
      "Are you sure you want the elien?\n"
     ]
    }
   ],
   "source": [
    "aliens = [ ]\n",
    "if aliens:\n",
    "    for elien in eliens:\n",
    "        print(f\"Adding {elien}\")\n",
    "    print(\"\\nFinished putting eliens\")\n",
    "else:\n",
    "    print(\"Are you sure you want the elien?\")\n",
    "    "
   ],
   "metadata": {
    "collapsed": false,
    "ExecuteTime": {
     "end_time": "2023-08-16T11:24:05.277429Z",
     "start_time": "2023-08-16T11:24:05.154072Z"
    }
   },
   "id": "e19b5a14f6c23c1d"
  },
  {
   "cell_type": "markdown",
   "source": [
    "# DICTIONARIES "
   ],
   "metadata": {
    "collapsed": false
   },
   "id": "57ce073e11f9fa81"
  },
  {
   "cell_type": "code",
   "execution_count": 13,
   "outputs": [
    {
     "name": "stdout",
     "output_type": "stream",
     "text": [
      "George Orwell\n"
     ]
    }
   ],
   "source": [
    "books_and_authors = {\n",
    "    \"To Kill a Mockingbird\": \"Harper Lee\",\n",
    "    \"1984\": \"George Orwell\",\n",
    "    \"Pride and Prejudice\": \"Jane Austen\",\n",
    "    \"The Great Gatsby\": \"F. Scott Fitzgerald\",\n",
    "    \"Moby Dick\": \"Herman Melville\",\n",
    "    \"Crime and Punishment\": \"Fyodor Dostoyevsky\",\n",
    "    \"Brave New World\": \"Aldous Huxley\",\n",
    "    \"One Hundred Years of Solitude\": \"Gabriel García Márquez\",\n",
    "    \"The Catcher in the Rye\": \"J.D. Salinger\",\n",
    "    \"Ulysses\": \"James Joyce\"\n",
    "}\n",
    "print(books_and_authors['1984'])"
   ],
   "metadata": {
    "collapsed": false,
    "ExecuteTime": {
     "end_time": "2023-08-16T11:24:05.277838Z",
     "start_time": "2023-08-16T11:24:05.161448Z"
    }
   },
   "id": "44319da0e6f3aedc"
  },
  {
   "cell_type": "code",
   "execution_count": 14,
   "outputs": [
    {
     "name": "stdout",
     "output_type": "stream",
     "text": [
      "Herman Melville\n"
     ]
    }
   ],
   "source": [
    "print(books_and_authors['Moby Dick'])"
   ],
   "metadata": {
    "collapsed": false,
    "ExecuteTime": {
     "end_time": "2023-08-16T11:24:05.278532Z",
     "start_time": "2023-08-16T11:24:05.173935Z"
    }
   },
   "id": "d0b4b8b19e2535d"
  },
  {
   "cell_type": "code",
   "execution_count": 15,
   "outputs": [
    {
     "name": "stdout",
     "output_type": "stream",
     "text": [
      "Herman Melville, wrote Moby Dick\n"
     ]
    }
   ],
   "source": [
    "author = books_and_authors['Moby Dick']\n",
    "print(f\"{author}, wrote Moby Dick\")"
   ],
   "metadata": {
    "collapsed": false,
    "ExecuteTime": {
     "end_time": "2023-08-16T11:24:05.279946Z",
     "start_time": "2023-08-16T11:24:05.180141Z"
    }
   },
   "id": "b89857aae049826c"
  },
  {
   "cell_type": "code",
   "execution_count": 16,
   "outputs": [
    {
     "name": "stdout",
     "output_type": "stream",
     "text": [
      "{'color': 'green', 'points': 5}\n"
     ]
    }
   ],
   "source": [
    "# Starting with an empty dictionary \n",
    "alien_0 = {}\n",
    "\n",
    "alien_0['color'] = 'green'\n",
    "alien_0['points'] = 5\n",
    "\n",
    "print(alien_0)"
   ],
   "metadata": {
    "collapsed": false,
    "ExecuteTime": {
     "end_time": "2023-08-16T11:24:05.281105Z",
     "start_time": "2023-08-16T11:24:05.185419Z"
    }
   },
   "id": "2c25a00888fa9fa2"
  },
  {
   "cell_type": "code",
   "execution_count": 17,
   "outputs": [],
   "source": [
    "# modify Values in a Dictionary\n",
    "\n",
    "alien_0['color'] = 'red'"
   ],
   "metadata": {
    "collapsed": false,
    "ExecuteTime": {
     "end_time": "2023-08-16T11:24:05.281871Z",
     "start_time": "2023-08-16T11:24:05.193357Z"
    }
   },
   "id": "161e8e64b60443b"
  },
  {
   "cell_type": "code",
   "execution_count": 18,
   "outputs": [
    {
     "data": {
      "text/plain": "{'color': 'red', 'points': 5}"
     },
     "execution_count": 18,
     "metadata": {},
     "output_type": "execute_result"
    }
   ],
   "source": [
    "alien_0"
   ],
   "metadata": {
    "collapsed": false,
    "ExecuteTime": {
     "end_time": "2023-08-16T11:24:05.282898Z",
     "start_time": "2023-08-16T11:24:05.199523Z"
    }
   },
   "id": "b149b3402d416541"
  },
  {
   "cell_type": "code",
   "execution_count": 19,
   "outputs": [
    {
     "name": "stdout",
     "output_type": "stream",
     "text": [
      "Original position: 0\n"
     ]
    }
   ],
   "source": [
    "alien_0 = {'x_position': 0, 'y_position': 25, 'speed': 'medium'}\n",
    "print(f\"Original position: {alien_0['x_position']}\")"
   ],
   "metadata": {
    "collapsed": false,
    "ExecuteTime": {
     "end_time": "2023-08-16T11:24:05.283348Z",
     "start_time": "2023-08-16T11:24:05.206740Z"
    }
   },
   "id": "9129eb6c664493a1"
  },
  {
   "cell_type": "code",
   "execution_count": 20,
   "outputs": [
    {
     "name": "stdout",
     "output_type": "stream",
     "text": [
      "New position: 2\n"
     ]
    }
   ],
   "source": [
    "# Move the alien to the right.\n",
    "# Determine how far to move the alien based on its current speed.\n",
    "if alien_0['speed'] == 'slow':\n",
    "    x_increment = 1\n",
    "elif alien_0['speed'] == 'medium':\n",
    "    x_increment = 2\n",
    "else:\n",
    "    x_increment = 3\n",
    "    \n",
    "# The new position is the old position plus the increment.\n",
    "alien_0['x_position'] = alien_0['x_position'] + x_increment\n",
    "\n",
    "print(f\"New position: {alien_0['x_position']}\")"
   ],
   "metadata": {
    "collapsed": false,
    "ExecuteTime": {
     "end_time": "2023-08-16T11:24:05.283953Z",
     "start_time": "2023-08-16T11:24:05.211298Z"
    }
   },
   "id": "f8a7c68c31026df6"
  },
  {
   "cell_type": "code",
   "execution_count": 21,
   "outputs": [
    {
     "name": "stdout",
     "output_type": "stream",
     "text": [
      "{'color': 'green', 'points': 5}\n",
      "{'color': 'green'}\n"
     ]
    }
   ],
   "source": [
    "alien_0 = {'color': 'green', 'points': 5}\n",
    "print(alien_0)\n",
    "\n",
    "del alien_0['points']\n",
    "print(alien_0)"
   ],
   "metadata": {
    "collapsed": false,
    "ExecuteTime": {
     "end_time": "2023-08-16T11:24:05.284436Z",
     "start_time": "2023-08-16T11:24:05.220189Z"
    }
   },
   "id": "265fe6dcd36e9481"
  },
  {
   "cell_type": "code",
   "execution_count": 23,
   "outputs": [],
   "source": [
    "favorite_languages = {\n",
    " 'jen': 'python',\n",
    " 'sarah': 'c',\n",
    " 'edward': 'ruby',\n",
    " 'phil': 'python',\n",
    " }"
   ],
   "metadata": {
    "collapsed": false,
    "ExecuteTime": {
     "end_time": "2023-08-16T11:24:16.834670Z",
     "start_time": "2023-08-16T11:24:16.748024Z"
    }
   },
   "id": "cfa59399800bc05d"
  },
  {
   "cell_type": "code",
   "execution_count": 24,
   "outputs": [],
   "source": [
    "# Lopping THROUGH A dictionary"
   ],
   "metadata": {
    "collapsed": false,
    "ExecuteTime": {
     "end_time": "2023-08-16T11:24:46.779870Z",
     "start_time": "2023-08-16T11:24:46.749484Z"
    }
   },
   "id": "eb8e8b9eac80f576"
  },
  {
   "cell_type": "code",
   "execution_count": 25,
   "outputs": [],
   "source": [
    "books_and_authors = {\n",
    "    \"To Kill a Mockingbird\": \"Harper Lee\",\n",
    "    \"1984\": \"George Orwell\",\n",
    "    \"Pride and Prejudice\": \"Jane Austen\",\n",
    "    \"The Great Gatsby\": \"F. Scott Fitzgerald\",\n",
    "    \"Moby Dick\": \"Herman Melville\",\n",
    "    \"Crime and Punishment\": \"Fyodor Dostoyevsky\",\n",
    "    \"Brave New World\": \"Aldous Huxley\",\n",
    "    \"One Hundred Years of Solitude\": \"Gabriel García Márquez\",\n",
    "    \"The Catcher in the Rye\": \"J.D. Salinger\",\n",
    "    \"Ulysses\": \"James Joyce\"\n",
    "}"
   ],
   "metadata": {
    "collapsed": false,
    "ExecuteTime": {
     "end_time": "2023-08-16T11:25:06.982332Z",
     "start_time": "2023-08-16T11:25:06.952578Z"
    }
   },
   "id": "a19a071a82c61fa6"
  },
  {
   "cell_type": "code",
   "execution_count": 27,
   "outputs": [
    {
     "name": "stdout",
     "output_type": "stream",
     "text": [
      "\n",
      "Key: To Kill a Mockingbird\n",
      "\n",
      "Value: Harper Lee\n",
      "\n",
      "Key: 1984\n",
      "\n",
      "Value: George Orwell\n",
      "\n",
      "Key: Pride and Prejudice\n",
      "\n",
      "Value: Jane Austen\n",
      "\n",
      "Key: The Great Gatsby\n",
      "\n",
      "Value: F. Scott Fitzgerald\n",
      "\n",
      "Key: Moby Dick\n",
      "\n",
      "Value: Herman Melville\n",
      "\n",
      "Key: Crime and Punishment\n",
      "\n",
      "Value: Fyodor Dostoyevsky\n",
      "\n",
      "Key: Brave New World\n",
      "\n",
      "Value: Aldous Huxley\n",
      "\n",
      "Key: One Hundred Years of Solitude\n",
      "\n",
      "Value: Gabriel García Márquez\n",
      "\n",
      "Key: The Catcher in the Rye\n",
      "\n",
      "Value: J.D. Salinger\n",
      "\n",
      "Key: Ulysses\n",
      "\n",
      "Value: James Joyce\n"
     ]
    }
   ],
   "source": [
    "for key, value in books_and_authors.items():\n",
    "    print(f\"\\nKey: {key}\")\n",
    "    print(f\"\\nValue: {value}\")"
   ],
   "metadata": {
    "collapsed": false,
    "ExecuteTime": {
     "end_time": "2023-08-16T11:26:48.609492Z",
     "start_time": "2023-08-16T11:26:48.586270Z"
    }
   },
   "id": "85d26faba6fc5af5"
  },
  {
   "cell_type": "code",
   "execution_count": null,
   "outputs": [],
   "source": [],
   "metadata": {
    "collapsed": false
   },
   "id": "2fd892bbe9fee46e"
  }
 ],
 "metadata": {
  "kernelspec": {
   "display_name": "Python 3",
   "language": "python",
   "name": "python3"
  },
  "language_info": {
   "codemirror_mode": {
    "name": "ipython",
    "version": 2
   },
   "file_extension": ".py",
   "mimetype": "text/x-python",
   "name": "python",
   "nbconvert_exporter": "python",
   "pygments_lexer": "ipython2",
   "version": "2.7.6"
  }
 },
 "nbformat": 4,
 "nbformat_minor": 5
}
