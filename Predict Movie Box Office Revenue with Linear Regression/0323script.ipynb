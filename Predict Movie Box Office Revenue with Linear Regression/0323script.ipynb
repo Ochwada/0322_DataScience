{
 "cells": [
  {
   "cell_type": "code",
   "execution_count": 1,
   "id": "44f119e6-53de-474a-b0c8-7e3c7f88a7c2",
   "metadata": {},
   "outputs": [],
   "source": [
    "import csv\n",
    "\n",
    "input_file = 'cost_revenue_dirty.csv'\n",
    "output_file = 'cost_revenue_non0.csv'\n",
    "field_name = 'Worldwide Gross ($)'"
   ]
  },
  {
   "cell_type": "code",
   "execution_count": 2,
   "id": "63d5d44c-5045-40a9-a139-95398a92ac87",
   "metadata": {},
   "outputs": [],
   "source": [
    "with open(input_file, 'r', newline='') as infile, open(output_file, 'w', newline='') as outfile:\n",
    "    reader = csv.DictReader(infile)\n",
    "    fieldnames = reader.fieldnames\n",
    "    writer = csv.DictWriter(outfile, fieldnames=fieldnames)\n",
    "    writer.writeheader()\n",
    "\n",
    "    for row in reader:\n",
    "        if row[field_name] != '$0':\n",
    "            writer.writerow(row)"
   ]
  },
  {
   "cell_type": "code",
   "execution_count": null,
   "id": "ca3daff8-cb15-47ab-b9fb-e5425d9ba369",
   "metadata": {},
   "outputs": [],
   "source": []
  }
 ],
 "metadata": {
  "kernelspec": {
   "display_name": "Python 3 (ipykernel)",
   "language": "python",
   "name": "python3"
  },
  "language_info": {
   "codemirror_mode": {
    "name": "ipython",
    "version": 3
   },
   "file_extension": ".py",
   "mimetype": "text/x-python",
   "name": "python",
   "nbconvert_exporter": "python",
   "pygments_lexer": "ipython3",
   "version": "3.9.7"
  }
 },
 "nbformat": 4,
 "nbformat_minor": 5
}
