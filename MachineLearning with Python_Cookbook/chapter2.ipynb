{
 "cells": [
  {
   "attachments": {},
   "cell_type": "markdown",
   "metadata": {},
   "source": [
    "# Loading Data"
   ]
  },
  {
   "cell_type": "code",
   "execution_count": 9,
   "metadata": {},
   "outputs": [],
   "source": [
    "# Loading a pre-existing sample data set\n",
    "# scikit-learn's dataset library\n",
    "from sklearn import datasets\n",
    "from sklearn.datasets import make_regression\n",
    "import pandas as pd"
   ]
  },
  {
   "cell_type": "code",
   "execution_count": 10,
   "metadata": {},
   "outputs": [
    {
     "data": {
      "text/plain": [
       "array([ 0.,  0.,  5., 13.,  9.,  1.,  0.,  0.,  0.,  0., 13., 15., 10.,\n",
       "       15.,  5.,  0.,  0.,  3., 15.,  2.,  0., 11.,  8.,  0.,  0.,  4.,\n",
       "       12.,  0.,  0.,  8.,  8.,  0.,  0.,  5.,  8.,  0.,  0.,  9.,  8.,\n",
       "        0.,  0.,  4., 11.,  0.,  1., 12.,  7.,  0.,  0.,  2., 14.,  5.,\n",
       "       10., 12.,  0.,  0.,  0.,  0.,  6., 13., 10.,  0.,  0.,  0.])"
      ]
     },
     "execution_count": 10,
     "metadata": {},
     "output_type": "execute_result"
    }
   ],
   "source": [
    "# Load digital datasets\n",
    "digits = datasets.load_digits()\n",
    "\n",
    "# create features matrix\n",
    "features = digits.data \n",
    "\n",
    "# create a target vector\n",
    "target = digits.target\n",
    "\n",
    "# View first Obseration\n",
    "features[0]"
   ]
  },
  {
   "cell_type": "code",
   "execution_count": 11,
   "metadata": {},
   "outputs": [],
   "source": [
    "## similar datasets --> boston, iris and digits"
   ]
  },
  {
   "attachments": {},
   "cell_type": "markdown",
   "metadata": {},
   "source": [
    "## Creating a Simulated dataset"
   ]
  },
  {
   "cell_type": "code",
   "execution_count": 12,
   "metadata": {},
   "outputs": [],
   "source": [
    "# Generate features matrix, target vector  and the true cooefficients - for regression \n",
    "\n",
    "features, targets, coefficients =make_regression( # use make_classiffication -  for classification purposes AND make_blobs for clustering problems\n",
    "    n_samples = 100,\n",
    "    n_features = 3,\n",
    "    n_informative= 3,\n",
    "    n_targets = 1, \n",
    "    noise = 0.0,\n",
    "    coef= True,\n",
    "    random_state= 1\n",
    ")"
   ]
  },
  {
   "cell_type": "code",
   "execution_count": 13,
   "metadata": {},
   "outputs": [
    {
     "name": "stdout",
     "output_type": "stream",
     "text": [
      "Feature Matrix \n",
      " [[ 1.29322588 -0.61736206 -0.11044703]\n",
      " [-2.793085    0.36633201  1.93752881]\n",
      " [ 0.80186103 -0.18656977  0.0465673 ]]\n",
      "Target Vector  \n",
      " [-10.37865986  25.5124503   19.67705609]\n"
     ]
    }
   ],
   "source": [
    "# view feature matrix and target vector\n",
    "\n",
    "print('Feature Matrix \\n', features[:3])\n",
    "print('Target Vector  \\n', targets[:3])"
   ]
  },
  {
   "cell_type": "code",
   "execution_count": 25,
   "metadata": {},
   "outputs": [
    {
     "name": "stdout",
     "output_type": "stream",
     "text": [
      "fetch_20newsgroups\n",
      "fetch_20newsgroups_vectorized\n",
      "fetch_california_housing\n",
      "fetch_covtype\n",
      "fetch_kddcup99\n",
      "fetch_lfw_pairs\n",
      "fetch_lfw_people\n",
      "fetch_olivetti_faces\n",
      "fetch_openml\n",
      "fetch_rcv1\n",
      "fetch_species_distributions\n",
      "load_breast_cancer\n",
      "load_diabetes\n",
      "load_digits\n",
      "load_files\n",
      "load_iris\n",
      "load_linnerud\n",
      "load_sample_image\n",
      "load_sample_images\n",
      "load_svmlight_file\n",
      "load_svmlight_files\n",
      "load_wine\n",
      "make_biclusters\n",
      "make_blobs\n",
      "make_checkerboard\n",
      "make_circles\n",
      "make_classification\n",
      "make_friedman1\n",
      "make_friedman2\n",
      "make_friedman3\n",
      "make_gaussian_quantiles\n",
      "make_hastie_10_2\n",
      "make_low_rank_matrix\n",
      "make_moons\n",
      "make_multilabel_classification\n",
      "make_regression\n",
      "make_s_curve\n",
      "make_sparse_coded_signal\n",
      "make_sparse_spd_matrix\n",
      "make_sparse_uncorrelated\n",
      "make_spd_matrix\n",
      "make_swiss_roll\n"
     ]
    }
   ],
   "source": [
    "\n",
    "dataset_functions = [name for name in dir(datasets)\n",
    "                     if name.startswith('load') or name.startswith('fetch') or name.startswith('make')]\n",
    "\n",
    "for dataset in dataset_functions:\n",
    "    print(dataset)"
   ]
  },
  {
   "cell_type": "code",
   "execution_count": null,
   "metadata": {},
   "outputs": [],
   "source": []
  }
 ],
 "metadata": {
  "kernelspec": {
   "display_name": "data_science",
   "language": "python",
   "name": "python3"
  },
  "language_info": {
   "codemirror_mode": {
    "name": "ipython",
    "version": 3
   },
   "file_extension": ".py",
   "mimetype": "text/x-python",
   "name": "python",
   "nbconvert_exporter": "python",
   "pygments_lexer": "ipython3",
   "version": "3.9.16"
  },
  "orig_nbformat": 4
 },
 "nbformat": 4,
 "nbformat_minor": 2
}
