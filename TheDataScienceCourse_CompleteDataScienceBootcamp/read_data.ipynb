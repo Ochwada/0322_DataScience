{
 "cells": [
  {
   "cell_type": "code",
   "execution_count": 2,
   "metadata": {},
   "outputs": [],
   "source": [
    "import pandas as pd\n",
    "import os\n",
    "import glob"
   ]
  },
  {
   "cell_type": "code",
   "execution_count": 3,
   "metadata": {},
   "outputs": [],
   "source": [
    "# Directory where your csv files are\n",
    "csv_dir = '/data/'\n",
    "\n",
    "# Get list of all csv files in the directory\n",
    "csv_files = glob.glob(os.path.join(csv_dir, '*.csv'))\n",
    "\n",
    "for file in csv_files:\n",
    "    # Load the CSV data\n",
    "    data = pd.read_csv(file)\n",
    "\n",
    "    # Define the new Excel file name\n",
    "    new_file = os.path.splitext(file)[0] + '.xlsx'\n",
    "\n",
    "    # Check if the file already exists\n",
    "    if not os.path.exists(new_file):\n",
    "        # If the file does not exist, write the data to an Excel file\n",
    "        data.to_excel(new_file, index=False)\n",
    "    else:\n",
    "        print(f\"File {new_file} already exists. Skipping...\")"
   ]
  },
  {
   "cell_type": "code",
   "execution_count": null,
   "metadata": {},
   "outputs": [],
   "source": []
  }
 ],
 "metadata": {
  "kernelspec": {
   "display_name": "data_science",
   "language": "python",
   "name": "python3"
  },
  "language_info": {
   "codemirror_mode": {
    "name": "ipython",
    "version": 3
   },
   "file_extension": ".py",
   "mimetype": "text/x-python",
   "name": "python",
   "nbconvert_exporter": "python",
   "pygments_lexer": "ipython3",
   "version": "3.9.16"
  },
  "orig_nbformat": 4
 },
 "nbformat": 4,
 "nbformat_minor": 2
}
